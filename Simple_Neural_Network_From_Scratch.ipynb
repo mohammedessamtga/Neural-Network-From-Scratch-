{
  "nbformat": 4,
  "nbformat_minor": 0,
  "metadata": {
    "colab": {
      "name": "Simple Neural Network From Scratch.ipynb",
      "provenance": [],
      "collapsed_sections": []
    },
    "kernelspec": {
      "name": "python3",
      "display_name": "Python 3"
    }
  },
  "cells": [
    {
      "cell_type": "code",
      "metadata": {
        "id": "2Dt13OhJbweF",
        "colab_type": "code",
        "colab": {}
      },
      "source": [
        "import numpy as np \n",
        "import pandas as pd "
      ],
      "execution_count": 0,
      "outputs": []
    },
    {
      "cell_type": "code",
      "metadata": {
        "id": "u1dMobzJb3l3",
        "colab_type": "code",
        "colab": {}
      },
      "source": [
        "class Neuron:\n",
        "   def __init__(self,c,inp_size=4):\n",
        "     #reshape and add rand in case of bias \n",
        "     self.weights = np.random.rand(inp_size,1)\n",
        "     self.choice = c \n",
        "     self.output = 0 \n",
        "     self.signal = 0 \n",
        "   def feed(self,x):\n",
        "      #reshape and add 1 in case of bias \n",
        "       self.input = x \n",
        "       self.net = np.dot(x,self.weights)\n",
        "       \n",
        "       \n",
        "   def sigmoid(self,net):\n",
        "       return 1/(1+np.exp(net))\n",
        "      \n",
        "   def tanh(self,net):\n",
        "       return np.tanh(net)\n",
        "\n",
        "   def switch_forward(self):\n",
        "  \n",
        "     if self.choice==0:\n",
        "       self.output=self.sigmoid(self.net)\n",
        "     else:\n",
        "       self.output=self.tanh(self.net)\n",
        "   def sigmoid_prim(self,net):\n",
        "     return self.sigmoid(net)*(1-self.sigmoid(net))\n",
        "   def tanh_prim(self,net):\n",
        "     return ((1-self.tanh(net))*(1+self.tanh(net)))\n",
        "   def switch_backward(self):\n",
        "      if self.choice == 0 : \n",
        "        self.signal = self.sigmoid_prim(self.net)\n",
        "      else:\n",
        "        self.signal = self.tanh_prim(self.net)     \n",
        "   "
      ],
      "execution_count": 0,
      "outputs": []
    },
    {
      "cell_type": "code",
      "metadata": {
        "id": "lJuQ2mTJFA3B",
        "colab_type": "code",
        "colab": {}
      },
      "source": [
        "class Layer: \n",
        "   def __init__(self,activation,n,inp_size):\n",
        "      self.activation = activation \n",
        "      self.input_size=inp_size\n",
        "      self.n=n\n",
        "      self.neurons = [] \n",
        "      \n",
        "    \n"
      ],
      "execution_count": 0,
      "outputs": []
    },
    {
      "cell_type": "code",
      "metadata": {
        "id": "s7X42e05xRSc",
        "colab_type": "code",
        "colab": {}
      },
      "source": [
        "class Sequential: \n",
        "   def __init__(self):\n",
        "     self.layers=[]\n",
        "  \n",
        "   def add(self,neurons,activation):\n",
        "      temp = 0\n",
        "      if len(self.layers) == 0 : \n",
        "         temp = Layer(activation,neurons,4)\n",
        "      else:\n",
        "         temp = Layer(activation,neurons,self.layers[len(self.layers)-1].n)\n",
        "      for i in range(neurons):\n",
        "         t = Neuron(0,temp.input_size)\n",
        "         temp.neurons.append(t)\n",
        "      self.layers.append(temp) \n",
        "   def Summary(self):\n",
        "     print(\"====================================\")\n",
        "     print(\"layer \\t \\t output shape\")\n",
        "     print(\"====================================\")\n",
        "     for i in range(len(self.layers)):\n",
        "       print(\"layer \"+str(i+1)+\"\\t \\t   \"+str(self.layers[i].n)+\" , 1\")\n",
        "   def forward(self,X):\n",
        "      for layer in self.layers:\n",
        "        temp=[]\n",
        "        for neuron in layer.neurons:\n",
        "          \n",
        "           neuron.feed(X)\n",
        "           neuron.switch_forward()\n",
        "         \n",
        "           temp.append(np.reshape(neuron.output,1))\n",
        "           \n",
        "        X=np.array(temp)\n",
        "        X=np.transpose(X)\n",
        "        \n",
        "   def backward(self,y):\n",
        "      for i in range(len(self.layers)-1,-1,-1):\n",
        "         layer = self.layers[i]\n",
        "         if i == len(self.layers)-1 : \n",
        "            for c in range(layer.n): \n",
        "               layer.neurons[c].switch_backward()\n",
        "               layer.neurons[c].signal*=(y[c]-layer.neurons[c].output)\n",
        "         else:\n",
        "           for c in range(layer.n):\n",
        "              layer.neurons[c].switch_backward() \n",
        "              product = 0\n",
        "              back_layer=self.layers[i+1]\n",
        "              for indx in range(back_layer.n):\n",
        "                  product+=(back_layer.neurons[indx].signal*back_layer.neurons[indx].weights[c])\n",
        "              layer.neurons[c].signal*=product\n",
        "   def update_weights(self,eta): \n",
        "      for layer in self.layers:\n",
        "        for neuron in layer.neurons :\n",
        "               \n",
        "               neuron.weights=neuron.weights+(eta*neuron.signal*np.transpose(neuron.input))\n",
        "               \n",
        "   def fit(self,X,y,epochs,eta):\n",
        "      for i in range(epochs):\n",
        "       print(\"epoch \"+str(i+1))\n",
        "  \n",
        "       self.forward(X)\n",
        "       self.backward(y)\n",
        "       self.update_weights(eta)\n",
        "   def predict(self,X):\n",
        "     predictions = []\n",
        "     for i in range(np.shape(X)[0]):\n",
        "       t=[]\n",
        "       temp = X[i,:] \n",
        "      \n",
        "       self.forward(X)\n",
        "       z = self.layers[len(self.layers)-1].neurons\n",
        "       for neuron in z:\n",
        "          t.append(neuron.output)\n",
        "       predictions.append(t)\n",
        "     return predictions"
      ],
      "execution_count": 0,
      "outputs": []
    },
    {
      "cell_type": "code",
      "metadata": {
        "id": "-2R62TKX6DvN",
        "colab_type": "code",
        "outputId": "53a49b2f-e04a-48de-d365-1bf38053524a",
        "colab": {
          "base_uri": "https://localhost:8080/",
          "height": 176
        }
      },
      "source": [
        "model = Sequential() \n",
        "model.add(8,1)\n",
        "model.add(16,1)\n",
        "model.add(8,0)\n",
        "model.add(4,1)\n",
        "model.add(2,1)\n",
        "model.add(3,0)\n",
        "model.Summary()"
      ],
      "execution_count": 0,
      "outputs": [
        {
          "output_type": "stream",
          "text": [
            "====================================\n",
            "layer \t \t output shape\n",
            "====================================\n",
            "layer 1\t \t   8 , 1\n",
            "layer 2\t \t   16 , 1\n",
            "layer 3\t \t   8 , 1\n",
            "layer 4\t \t   4 , 1\n",
            "layer 5\t \t   2 , 1\n",
            "layer 6\t \t   3 , 1\n"
          ],
          "name": "stdout"
        }
      ]
    },
    {
      "cell_type": "code",
      "metadata": {
        "id": "zyOM6AMMjONC",
        "colab_type": "code",
        "colab": {}
      },
      "source": [
        "X = np.random.rand(1,4)\n",
        "Y = np.random.rand(3,1)\n",
        "\n",
        "   "
      ],
      "execution_count": 0,
      "outputs": []
    },
    {
      "cell_type": "code",
      "metadata": {
        "id": "SHX7j3eJizYJ",
        "colab_type": "code",
        "colab": {}
      },
      "source": [
        "model.fit(X,Y,100,0.01)"
      ],
      "execution_count": 0,
      "outputs": []
    },
    {
      "cell_type": "code",
      "metadata": {
        "id": "DxWAqGQ6nOUr",
        "colab_type": "code",
        "colab": {}
      },
      "source": [
        "ans=model.predict(X)"
      ],
      "execution_count": 0,
      "outputs": []
    },
    {
      "cell_type": "code",
      "metadata": {
        "id": "OnIzidcjgdGF",
        "colab_type": "code",
        "outputId": "33facdf1-a906-40ff-a243-4111359359d1",
        "colab": {
          "base_uri": "https://localhost:8080/",
          "height": 34
        }
      },
      "source": [
        "print(ans)"
      ],
      "execution_count": 0,
      "outputs": [
        {
          "output_type": "stream",
          "text": [
            "[[array([[0.48341442]]), array([[0.37652586]]), array([[0.46995187]])]]\n"
          ],
          "name": "stdout"
        }
      ]
    }
  ]
}